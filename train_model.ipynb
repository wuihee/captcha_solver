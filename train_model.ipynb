{
 "cells": [
  {
   "attachments": {},
   "cell_type": "markdown",
   "metadata": {},
   "source": [
    "# OCR Model for Reading CAPTCHAs\n",
    "\n",
    "Based on: https://keras.io/examples/vision/captcha_ocr/\n",
    "\n",
    "## Introduction\n",
    "\n",
    "A simple OCR model built with the Functional API. It combines CNN and RNN, and illustrates how you can instantiate a new layer and use it as an \"Endpoint layer\" for implementing CTC loss.\n",
    "\n",
    "## Setup"
   ]
  },
  {
   "cell_type": "code",
   "execution_count": 1,
   "metadata": {},
   "outputs": [],
   "source": [
    "import os\n",
    "from collections import Counter\n",
    "from pathlib import Path\n",
    "\n",
    "import cv2\n",
    "import matplotlib.pyplot as plt\n",
    "import numpy as np\n",
    "import tensorflow as tf\n",
    "from tensorflow import keras\n",
    "from tensorflow.keras import layers"
   ]
  },
  {
   "attachments": {},
   "cell_type": "markdown",
   "metadata": {},
   "source": [
    "## Load the Data: CAPTCHA Images\n",
    "\n",
    "Besides loading the CAPTCHA images, I found it to be more accurate if I split the images into their individual letters."
   ]
  },
  {
   "cell_type": "code",
   "execution_count": 2,
   "metadata": {},
   "outputs": [],
   "source": [
    "# Split images into 4 columns.\n",
    "captcha_images = Path(\"./input/captcha_images/\")\n",
    "\n",
    "for image_path in captcha_images.iterdir():\n",
    "    image = cv2.imread(str(image_path))\n",
    "    label = image_path.name.split(\".png\")[0]\n",
    "\n",
    "    for i in range(4):\n",
    "        image_col = image[:, i * 25:(i + 1) * 25]\n",
    "        cv2.imwrite(f\"./input/captcha_letters/{label[i]}_{label}.png\", image_col)"
   ]
  },
  {
   "cell_type": "code",
   "execution_count": 3,
   "metadata": {},
   "outputs": [
    {
     "name": "stdout",
     "output_type": "stream",
     "text": [
      "Number of images found: 8117\n",
      "Number of labels  found: 8117\n",
      "Number of unique characters: 55\n",
      "Characters present: ['2', '3', '4', '5', '6', '7', '8', '9', 'A', 'B', 'C', 'D', 'E', 'F', 'G', 'H', 'J', 'K', 'M', 'N', 'P', 'Q', 'R', 'S', 'T', 'U', 'V', 'W', 'X', 'Y', 'Z', 'a', 'b', 'c', 'd', 'e', 'f', 'g', 'h', 'j', 'k', 'm', 'n', 'o', 'p', 'q', 'r', 's', 't', 'u', 'v', 'w', 'x', 'y', 'z']\n"
     ]
    }
   ],
   "source": [
    "# Path to data directory.\n",
    "data_dir = Path(\"./input/captcha_letters/\")\n",
    "\n",
    "# Get list of all the image paths.\n",
    "images = sorted([str(image_path) for image_path in data_dir.glob(\"*.png\")])\n",
    "labels = [image.split(os.path.sep)[-1].split(\".png\")[0][0] for image in images]\n",
    "characters = sorted(list(set(labels)))\n",
    "\n",
    "print(f\"Number of images found: {len(images)}\")\n",
    "print(f\"Number of labels  found: {len(labels)}\")\n",
    "print(f\"Number of unique characters: {len(characters)}\")\n",
    "print(f\"Characters present: {characters}\")\n",
    "\n",
    "# Batch size for training and validation.\n",
    "batch_size = 32\n",
    "\n",
    "# Desired image dimensions.\n",
    "img_width = 25\n",
    "img_height = 40\n",
    "\n",
    "# Factor by which the image is going to be downsampled by the convolution\n",
    "# blocks. We will be using two convolution blocks and each block will have\n",
    "# a pooling layer which downsamples the features by a factor of 2. Hence,\n",
    "# the total downsampling factor would be 4.\n",
    "downsample_factor = 4\n",
    "\n",
    "# Maximum length of any captcha in the dataset.\n",
    "max_length = 1"
   ]
  },
  {
   "attachments": {},
   "cell_type": "markdown",
   "metadata": {},
   "source": [
    "## Preprocessing"
   ]
  },
  {
   "cell_type": "code",
   "execution_count": 4,
   "metadata": {},
   "outputs": [],
   "source": [
    "# Mapping characters to integers.\n",
    "char_to_num = layers.StringLookup(vocabulary=list(characters), mask_token=None)\n",
    "\n",
    "# Mapping integers back to original characters.\n",
    "num_to_char = layers.StringLookup(vocabulary=char_to_num.get_vocabulary(), mask_token=None, invert=True)\n",
    "\n",
    "\n",
    "def split_data(images: list[str], labels: list[str], train_size=0.9, shuffle=True):\n",
    "    \"\"\"\n",
    "    Split the dataset into train/validation sets.\n",
    "\n",
    "    Args:\n",
    "        images (list[str]): List of paths to the CAPTCHA images.\n",
    "        labels (list[str]): List of labels for each CAPTCHA image.\n",
    "        train_size (float, optional): Ratio of train data. Defaults to 0.9.\n",
    "        shuffle (bool, optional): Whether to shuffle the dataset. Defaults to True.\n",
    "    \"\"\"\n",
    "\n",
    "    # Get the size and respective indices of the entire dataset.\n",
    "    size = len(images)\n",
    "    indices = np.arange(size)\n",
    "\n",
    "    if shuffle:\n",
    "        np.random.shuffle(indices)\n",
    "\n",
    "    # Get the size of the training samples.\n",
    "    train_samples = int(size * train_size)\n",
    "\n",
    "    # Split the data into train/validation sets.\n",
    "    x_train, y_train = images[indices[:train_samples]], labels[indices[:train_samples]]\n",
    "    x_valid, y_valid = images[indices[train_samples:]], labels[indices[train_samples:]]\n",
    "    return x_train, x_valid, y_train, y_valid\n",
    "\n",
    "\n",
    "x_train, x_valid, y_train, y_valid = split_data(np.array(images), np.array(labels))\n",
    "\n",
    "\n",
    "def encode_single_sample(img_path: str, label: str):\n",
    "    \"\"\"\n",
    "    Performs preprocessing on a single image-pair in the OCR dataset.\n",
    "\n",
    "    Args:\n",
    "        img_path (str): Path to image.\n",
    "        label (str): Label of image.\n",
    "    \"\"\"\n",
    "\n",
    "    # Returns a tensor of the image specified.\n",
    "    img = tf.io.read_file(img_path)\n",
    "\n",
    "    # Decode and convert to grayscale, i.e. representing pixel values as unsigned 8-bit\n",
    "    # integers.\n",
    "    img = tf.io.decode_png(img, channels=1)\n",
    "\n",
    "    # Convert the pixels of the image to float32 datatype and scale the values betwween\n",
    "    # the 0 and 1 range.\n",
    "    img = tf.image.convert_image_dtype(img, tf.float32)\n",
    "\n",
    "    # Resize to the desired size.\n",
    "    img = tf.image.resize(img, [img_height, img_width])\n",
    "\n",
    "    # Transponse the image because we want the time dimension to correspond to the width\n",
    "    # of the image.\n",
    "    # (height, width, channels) -> (width, height, channels)\n",
    "    img = tf.transpose(img, perm=[1, 0, 2])\n",
    "\n",
    "    # Map the characters in labels to numbers.\n",
    "    # tf.strings.unicode_split: splits the label string into individual Unicode characters.\n",
    "    # char_to_num : outputs a tensor where each character is represented by an integer value.\n",
    "    label = char_to_num(tf.strings.unicode_split(label, input_encoding=\"UTF-8\"))\n",
    "\n",
    "    return {\"image\": img, \"label\": label}"
   ]
  },
  {
   "attachments": {},
   "cell_type": "markdown",
   "metadata": {},
   "source": [
    "## Create `Dataset` Objects"
   ]
  },
  {
   "cell_type": "code",
   "execution_count": 5,
   "metadata": {},
   "outputs": [],
   "source": [
    "# Creates a dataset from tensors x_train and y_train.\n",
    "# Each element of the dataset will be a tuple (x_train[i], y_train[i])\n",
    "train_dataset = tf.data.Dataset.from_tensor_slices((x_train, y_train))\n",
    "\n",
    "# First, apply encode_single_sample() on each instance of the dataset.\n",
    "# num_parallel_calls=tf.data.AUTOTUNE determines the optimal amount of parallelism to use\n",
    "# when mapping the function to each instance of the dataset.\n",
    "# Afterwards, .batch() groups the dataset into batches.\n",
    "# Finally, .prefetch() defines a buffer in memory that can hold a certain number of elements.\n",
    "# By prefetching, TensorFlow can get ready and process one batch of data, while another is\n",
    "# being trained, thereby saving time.\n",
    "train_dataset = (train_dataset.map(\n",
    "        encode_single_sample, num_parallel_calls=tf.data.AUTOTUNE\n",
    "    )\n",
    "    .batch(batch_size)\n",
    "    .prefetch(buffer_size=tf.data.AUTOTUNE)\n",
    ")\n",
    "\n",
    "# Do the same thing for the validation dataset.\n",
    "validation_dataset = tf.data.Dataset.from_tensor_slices((x_valid, y_valid))\n",
    "validation_dataset = (validation_dataset.map(\n",
    "        encode_single_sample, num_parallel_calls=tf.data.AUTOTUNE\n",
    "    )\n",
    "    .batch(batch_size)\n",
    "    .prefetch(buffer_size=tf.data.AUTOTUNE)\n",
    ")"
   ]
  },
  {
   "attachments": {},
   "cell_type": "markdown",
   "metadata": {},
   "source": [
    "## Visualize the Data"
   ]
  },
  {
   "cell_type": "code",
   "execution_count": 6,
   "metadata": {},
   "outputs": [
    {
     "data": {
      "image/png": "[encoded data removed]",
      "text/plain": [
       "<Figure size 1000x500 with 16 Axes>"
      ]
     },
     "metadata": {},
     "output_type": "display_data"
    }
   ],
   "source": [
    "# Creates a figure and set of subplots.\n",
    "_, ax = plt.subplots(4, 4, figsize=(10, 5))\n",
    "\n",
    "# Take 1 batch from the train_dataset.\n",
    "for batch in train_dataset.take(1):\n",
    "    images = batch[\"image\"]\n",
    "    labels = batch[\"label\"]\n",
    "\n",
    "    for i in range(16):\n",
    "        # Multiplies each pixel by 255, converts the TensorFlow tensor to a NumPy array, and\n",
    "        # converts the pixels to uint8 data.\n",
    "        img = (images[i] * 255).numpy().astype(\"uint8\")\n",
    "\n",
    "        # num_to_char() maps the numerical value back to its original character.\n",
    "        # tf.strings.reduce_join() joins the characters into a single string.\n",
    "        label = tf.strings.reduce_join(num_to_char(labels[i])).numpy().decode(\"utf-8\")\n",
    "\n",
    "        # ax[i // 4, i % 4] selects the subplot position.\n",
    "        # imshow() displays the image on the specified subplot.\n",
    "        # img[:, :, 0] selects all rows and columns of the image selects the first channel\n",
    "        # along the third dimension.\n",
    "        # .T transposes the image array into the proper arrangement so it can be displayed.\n",
    "        # cmap=\"gray\" displays the images in grayscale.\n",
    "        ax[i // 4, i % 4].imshow(img[:, :, 0].T, cmap=\"gray\")\n",
    "        ax[i // 4, i % 4].set_title(label)\n",
    "        ax[i // 4, i % 4].axis(\"off\")\n",
    "\n",
    "plt.show()"
   ]
  },
  {
   "attachments": {},
   "cell_type": "markdown",
   "metadata": {},
   "source": [
    "## Model"
   ]
  },
  {
   "cell_type": "code",
   "execution_count": 7,
   "metadata": {},
   "outputs": [
    {
     "name": "stdout",
     "output_type": "stream",
     "text": [
      "Model: \"ocr_model_v1\"\n",
      "__________________________________________________________________________________________________\n",
      " Layer (type)                   Output Shape         Param #     Connected to                     \n",
      "==================================================================================================\n",
      " image (InputLayer)             [(None, 25, 40, 1)]  0           []                               \n",
      "                                                                                                  \n",
      " Conv1 (Conv2D)                 (None, 25, 40, 32)   320         ['image[0][0]']                  \n",
      "                                                                                                  \n",
      " pool1 (MaxPooling2D)           (None, 12, 20, 32)   0           ['Conv1[0][0]']                  \n",
      "                                                                                                  \n",
      " Conv2 (Conv2D)                 (None, 12, 20, 64)   18496       ['pool1[0][0]']                  \n",
      "                                                                                                  \n",
      " pool2 (MaxPooling2D)           (None, 6, 10, 64)    0           ['Conv2[0][0]']                  \n",
      "                                                                                                  \n",
      " reshape (Reshape)              (None, 6, 640)       0           ['pool2[0][0]']                  \n",
      "                                                                                                  \n",
      " dense1 (Dense)                 (None, 6, 64)        41024       ['reshape[0][0]']                \n",
      "                                                                                                  \n",
      " dropout (Dropout)              (None, 6, 64)        0           ['dense1[0][0]']                 \n",
      "                                                                                                  \n",
      " bidirectional (Bidirectional)  (None, 6, 256)       197632      ['dropout[0][0]']                \n",
      "                                                                                                  \n",
      " bidirectional_1 (Bidirectional  (None, 6, 128)      164352      ['bidirectional[0][0]']          \n",
      " )                                                                                                \n",
      "                                                                                                  \n",
      " label (InputLayer)             [(None, None)]       0           []                               \n",
      "                                                                                                  \n",
      " dense2 (Dense)                 (None, 6, 57)        7353        ['bidirectional_1[0][0]']        \n",
      "                                                                                                  \n",
      " ctc_loss (CTCLayer)            (None, 6, 57)        0           ['label[0][0]',                  \n",
      "                                                                  'dense2[0][0]']                 \n",
      "                                                                                                  \n",
      "==================================================================================================\n",
      "Total params: 429,177\n",
      "Trainable params: 429,177\n",
      "Non-trainable params: 0\n",
      "__________________________________________________________________________________________________\n"
     ]
    }
   ],
   "source": [
    "# A layer is a callable object that takes as input one or more tensors that outputs\n",
    "# one or more tensors.\n",
    "class CTCLayer(layers.Layer):\n",
    "    def __init__(self, name=None):\n",
    "        super().__init__(name=name)\n",
    "        self.loss_fn = keras.backend.ctc_batch_cost\n",
    "\n",
    "    def call(self, y_true, y_pred):\n",
    "\n",
    "        # Calculate the number of samples in the batch.\n",
    "        # tf.shape(y_true)[0] : extracts the first element of the shape of the y_true tensor\n",
    "        batch_len = tf.cast(tf.shape(y_true)[0], dtype=\"int64\")\n",
    "        input_length = tf.cast(tf.shape(y_pred)[1], dtype=\"int64\")\n",
    "        label_length = tf.cast(tf.shape(y_true)[1], dtype=\"int64\")\n",
    "\n",
    "        input_length = input_length * tf.ones(shape=(batch_len, 1), dtype=\"int64\")\n",
    "        label_length = label_length * tf.ones(shape=(batch_len, 1), dtype=\"int64\")\n",
    "\n",
    "        loss = self.loss_fn(y_true, y_pred, input_length, label_length)\n",
    "        self.add_loss(loss)\n",
    "\n",
    "        return y_pred\n",
    "\n",
    "\n",
    "def build_model():\n",
    "    input_img = layers.Input(shape=(img_width, img_height, 1), name=\"image\", dtype=\"float32\")\n",
    "    labels = layers.Input(name=\"label\", shape=(None,), dtype=\"float32\")\n",
    "\n",
    "    # First convolution block.\n",
    "    x = layers.Conv2D(\n",
    "        32,\n",
    "        (3, 3),\n",
    "        activation=\"relu\",\n",
    "        kernel_initializer=\"he_normal\",\n",
    "        padding=\"same\",\n",
    "        name=\"Conv1\"\n",
    "    )(input_img)\n",
    "    x = layers.MaxPooling2D((2, 2), name=\"pool1\")(x)\n",
    "\n",
    "    # Second convolution block.\n",
    "    x = layers.Conv2D(\n",
    "        64,\n",
    "        (3, 3),\n",
    "        activation=\"relu\",\n",
    "        kernel_initializer=\"he_normal\",\n",
    "        padding=\"same\",\n",
    "        name=\"Conv2\"\n",
    "    )(x)\n",
    "    x = layers.MaxPooling2D((2, 2), name=\"pool2\")(x)\n",
    "\n",
    "    # We have used two max pool with pool size and strides 2. Hence, downsampled feature\n",
    "    # maps are 4x smaller. The number of filters in the last layer is 64. Reshape\n",
    "    # accordingly before passing the output to the RNN part of the model.\n",
    "    new_shape = ((img_width // 4), (img_height // 4) * 64)\n",
    "    x = layers.Reshape(target_shape=new_shape, name=\"reshape\")(x)\n",
    "    x = layers.Dense(64, activation=\"relu\", name=\"dense1\")(x)\n",
    "    x = layers.Dropout(0.2)(x)\n",
    "\n",
    "    # RNNs\n",
    "    x = layers.Bidirectional(layers.LSTM(128, return_sequences=True, dropout=0.25))(x)\n",
    "    x = layers.Bidirectional(layers.LSTM(64, return_sequences=True, dropout=0.25))(x)\n",
    "\n",
    "    # Output layer.\n",
    "    x = layers.Dense(len(char_to_num.get_vocabulary()) + 1, activation=\"softmax\", name=\"dense2\")(x)\n",
    "\n",
    "    # Add CTC layer for calculating CTC loss at each step.\n",
    "    output = CTCLayer(name=\"ctc_loss\")(labels, x)\n",
    "\n",
    "    # Define the model.\n",
    "    model = keras.models.Model(inputs=[input_img, labels], outputs=output, name=\"ocr_model_v1\")\n",
    "\n",
    "    # Optimizer.\n",
    "    opt = keras.optimizers.Adam()\n",
    "\n",
    "    # Compile the model and return.\n",
    "    model.compile(optimizer=opt)\n",
    "    return model\n",
    "\n",
    "\n",
    "model = build_model()\n",
    "model.summary()"
   ]
  },
  {
   "attachments": {},
   "cell_type": "markdown",
   "metadata": {},
   "source": [
    "## Training"
   ]
  },
  {
   "cell_type": "code",
   "execution_count": 8,
   "metadata": {},
   "outputs": [
    {
     "name": "stdout",
     "output_type": "stream",
     "text": [
      "Epoch 1/100\n",
      "229/229 [==============================] - 17s 32ms/step - loss: 4.7867 - val_loss: 4.0469\n",
      "Epoch 2/100\n",
      "229/229 [==============================] - 4s 17ms/step - loss: 4.0363 - val_loss: 4.0304\n",
      "Epoch 3/100\n",
      "229/229 [==============================] - 4s 18ms/step - loss: 4.0234 - val_loss: 4.0247\n",
      "Epoch 4/100\n",
      "229/229 [==============================] - 4s 18ms/step - loss: 4.0186 - val_loss: 4.0220\n",
      "Epoch 5/100\n",
      "229/229 [==============================] - 4s 18ms/step - loss: 4.0159 - val_loss: 4.0208\n",
      "Epoch 6/100\n",
      "229/229 [==============================] - 4s 18ms/step - loss: 4.0143 - val_loss: 4.0194\n",
      "Epoch 7/100\n",
      "229/229 [==============================] - 4s 18ms/step - loss: 3.9499 - val_loss: 3.9036\n",
      "Epoch 8/100\n",
      "229/229 [==============================] - 4s 18ms/step - loss: 3.7814 - val_loss: 3.7007\n",
      "Epoch 9/100\n",
      "229/229 [==============================] - 4s 18ms/step - loss: 3.3035 - val_loss: 2.7163\n",
      "Epoch 10/100\n",
      "229/229 [==============================] - 4s 18ms/step - loss: 2.3219 - val_loss: 1.7009\n",
      "Epoch 11/100\n",
      "229/229 [==============================] - 4s 18ms/step - loss: 1.5998 - val_loss: 1.1345\n",
      "Epoch 12/100\n",
      "229/229 [==============================] - 4s 16ms/step - loss: 1.1653 - val_loss: 0.7606\n",
      "Epoch 13/100\n",
      "229/229 [==============================] - 3s 15ms/step - loss: 0.8871 - val_loss: 0.5886\n",
      "Epoch 14/100\n",
      "229/229 [==============================] - 3s 15ms/step - loss: 0.7237 - val_loss: 0.4944\n",
      "Epoch 15/100\n",
      "229/229 [==============================] - 4s 16ms/step - loss: 0.6251 - val_loss: 0.4119\n",
      "Epoch 16/100\n",
      "229/229 [==============================] - 4s 16ms/step - loss: 0.5550 - val_loss: 0.3792\n",
      "Epoch 17/100\n",
      "229/229 [==============================] - 4s 16ms/step - loss: 0.5035 - val_loss: 0.3377\n",
      "Epoch 18/100\n",
      "229/229 [==============================] - 3s 15ms/step - loss: 0.4562 - val_loss: 0.3295\n",
      "Epoch 19/100\n",
      "229/229 [==============================] - 3s 15ms/step - loss: 0.4215 - val_loss: 0.3013\n",
      "Epoch 20/100\n",
      "229/229 [==============================] - 3s 15ms/step - loss: 0.3793 - val_loss: 0.2792\n",
      "Epoch 21/100\n",
      "229/229 [==============================] - 3s 15ms/step - loss: 0.3404 - val_loss: 0.2648\n",
      "Epoch 22/100\n",
      "229/229 [==============================] - 3s 14ms/step - loss: 0.3333 - val_loss: 0.2597\n",
      "Epoch 23/100\n",
      "229/229 [==============================] - 3s 15ms/step - loss: 0.3119 - val_loss: 0.2469\n",
      "Epoch 24/100\n",
      "229/229 [==============================] - 3s 15ms/step - loss: 0.3128 - val_loss: 0.2355\n",
      "Epoch 25/100\n",
      "229/229 [==============================] - 4s 16ms/step - loss: 0.2933 - val_loss: 0.2501\n",
      "Epoch 26/100\n",
      "229/229 [==============================] - 3s 15ms/step - loss: 0.2631 - val_loss: 0.2474\n",
      "Epoch 27/100\n",
      "229/229 [==============================] - 3s 15ms/step - loss: 0.2522 - val_loss: 0.2238\n",
      "Epoch 28/100\n",
      "229/229 [==============================] - 4s 15ms/step - loss: 0.2473 - val_loss: 0.2283\n",
      "Epoch 29/100\n",
      "229/229 [==============================] - 3s 15ms/step - loss: 0.2442 - val_loss: 0.2218\n",
      "Epoch 30/100\n",
      "229/229 [==============================] - 3s 15ms/step - loss: 0.2280 - val_loss: 0.2150\n",
      "Epoch 31/100\n",
      "229/229 [==============================] - 3s 15ms/step - loss: 0.2222 - val_loss: 0.2228\n",
      "Epoch 32/100\n",
      "229/229 [==============================] - 4s 16ms/step - loss: 0.2172 - val_loss: 0.2333\n",
      "Epoch 33/100\n",
      "229/229 [==============================] - 3s 15ms/step - loss: 0.2097 - val_loss: 0.2411\n",
      "Epoch 34/100\n",
      "229/229 [==============================] - 3s 14ms/step - loss: 0.2061 - val_loss: 0.2343\n",
      "Epoch 35/100\n",
      "229/229 [==============================] - 3s 15ms/step - loss: 0.1920 - val_loss: 0.2303\n",
      "Epoch 36/100\n",
      "229/229 [==============================] - 3s 15ms/step - loss: 0.1907 - val_loss: 0.2477\n",
      "Epoch 37/100\n",
      "229/229 [==============================] - 3s 15ms/step - loss: 0.1988 - val_loss: 0.2485\n",
      "Epoch 38/100\n",
      "229/229 [==============================] - 3s 15ms/step - loss: 0.1921 - val_loss: 0.2262\n",
      "Epoch 39/100\n",
      "229/229 [==============================] - 3s 15ms/step - loss: 0.1883 - val_loss: 0.2052\n",
      "Epoch 40/100\n",
      "229/229 [==============================] - 3s 15ms/step - loss: 0.1813 - val_loss: 0.2237\n",
      "Epoch 41/100\n",
      "229/229 [==============================] - 3s 15ms/step - loss: 0.1695 - val_loss: 0.2442\n",
      "Epoch 42/100\n",
      "229/229 [==============================] - 3s 15ms/step - loss: 0.1710 - val_loss: 0.2298\n",
      "Epoch 43/100\n",
      "229/229 [==============================] - 3s 14ms/step - loss: 0.1541 - val_loss: 0.2223\n",
      "Epoch 44/100\n",
      "229/229 [==============================] - 3s 15ms/step - loss: 0.1541 - val_loss: 0.2389\n",
      "Epoch 45/100\n",
      "229/229 [==============================] - 3s 15ms/step - loss: 0.1605 - val_loss: 0.2242\n",
      "Epoch 46/100\n",
      "229/229 [==============================] - 3s 15ms/step - loss: 0.1553 - val_loss: 0.2189\n",
      "Epoch 47/100\n",
      "229/229 [==============================] - 3s 15ms/step - loss: 0.1451 - val_loss: 0.2394\n",
      "Epoch 48/100\n",
      "229/229 [==============================] - 3s 15ms/step - loss: 0.1597 - val_loss: 0.2245\n",
      "Epoch 49/100\n",
      "229/229 [==============================] - 3s 15ms/step - loss: 0.1560 - val_loss: 0.2220\n"
     ]
    }
   ],
   "source": [
    "epochs = 100\n",
    "early_stopping_patience = 10\n",
    "\n",
    "# Add early stopping.\n",
    "early_stopping = keras.callbacks.EarlyStopping(monitor=\"val_loss\", patience=early_stopping_patience, restore_best_weights=True)\n",
    "\n",
    "# Train the model.\n",
    "history = model.fit(\n",
    "    train_dataset,\n",
    "    validation_data=validation_dataset,\n",
    "    epochs=epochs,\n",
    "    callbacks=[early_stopping]\n",
    ")"
   ]
  },
  {
   "cell_type": "code",
   "execution_count": 9,
   "metadata": {},
   "outputs": [
    {
     "name": "stdout",
     "output_type": "stream",
     "text": [
      "Model: \"model\"\n",
      "_________________________________________________________________\n",
      " Layer (type)                Output Shape              Param #   \n",
      "=================================================================\n",
      " image (InputLayer)          [(None, 25, 40, 1)]       0         \n",
      "                                                                 \n",
      " Conv1 (Conv2D)              (None, 25, 40, 32)        320       \n",
      "                                                                 \n",
      " pool1 (MaxPooling2D)        (None, 12, 20, 32)        0         \n",
      "                                                                 \n",
      " Conv2 (Conv2D)              (None, 12, 20, 64)        18496     \n",
      "                                                                 \n",
      " pool2 (MaxPooling2D)        (None, 6, 10, 64)         0         \n",
      "                                                                 \n",
      " reshape (Reshape)           (None, 6, 640)            0         \n",
      "                                                                 \n",
      " dense1 (Dense)              (None, 6, 64)             41024     \n",
      "                                                                 \n",
      " dropout (Dropout)           (None, 6, 64)             0         \n",
      "                                                                 \n",
      " bidirectional (Bidirectiona  (None, 6, 256)           197632    \n",
      " l)                                                              \n",
      "                                                                 \n",
      " bidirectional_1 (Bidirectio  (None, 6, 128)           164352    \n",
      " nal)                                                            \n",
      "                                                                 \n",
      " dense2 (Dense)              (None, 6, 57)             7353      \n",
      "                                                                 \n",
      "=================================================================\n",
      "Total params: 429,177\n",
      "Trainable params: 429,177\n",
      "Non-trainable params: 0\n",
      "_________________________________________________________________\n",
      "1/1 [==============================] - 1s 866ms/step\n"
     ]
    },
    {
     "ename": "IndexError",
     "evalue": "index 4 is out of bounds for axis 0 with size 4",
     "output_type": "error",
     "traceback": [
      "\u001b[1;31m---------------------------------------------------------------------------\u001b[0m",
      "\u001b[1;31mIndexError\u001b[0m                                Traceback (most recent call last)",
      "Cell \u001b[1;32mIn[9], line 39\u001b[0m\n\u001b[0;32m     37\u001b[0m img \u001b[39m=\u001b[39m img\u001b[39m.\u001b[39mT\n\u001b[0;32m     38\u001b[0m title \u001b[39m=\u001b[39m \u001b[39mf\u001b[39m\u001b[39m\"\u001b[39m\u001b[39mPrediction: \u001b[39m\u001b[39m{\u001b[39;00mpred_texts[i]\u001b[39m}\u001b[39;00m\u001b[39m\"\u001b[39m\n\u001b[1;32m---> 39\u001b[0m ax[i \u001b[39m/\u001b[39;49m\u001b[39m/\u001b[39;49m \u001b[39m4\u001b[39;49m, i \u001b[39m%\u001b[39;49m \u001b[39m4\u001b[39;49m]\u001b[39m.\u001b[39mimshow(img, cmap\u001b[39m=\u001b[39m\u001b[39m\"\u001b[39m\u001b[39mgray\u001b[39m\u001b[39m\"\u001b[39m)\n\u001b[0;32m     40\u001b[0m ax[i \u001b[39m/\u001b[39m\u001b[39m/\u001b[39m \u001b[39m4\u001b[39m, i \u001b[39m%\u001b[39m \u001b[39m4\u001b[39m]\u001b[39m.\u001b[39mset_title(title)\n\u001b[0;32m     41\u001b[0m ax[i \u001b[39m/\u001b[39m\u001b[39m/\u001b[39m \u001b[39m4\u001b[39m, i \u001b[39m%\u001b[39m \u001b[39m4\u001b[39m]\u001b[39m.\u001b[39maxis(\u001b[39m\"\u001b[39m\u001b[39moff\u001b[39m\u001b[39m\"\u001b[39m)\n",
      "\u001b[1;31mIndexError\u001b[0m: index 4 is out of bounds for axis 0 with size 4"
     ]
    },
    {
     "data": {
      "image/png": "[encoded data removed]",
      "text/plain": [
       "<Figure size 1500x500 with 16 Axes>"
      ]
     },
     "metadata": {},
     "output_type": "display_data"
    }
   ],
   "source": [
    "# Get the prediction model by extracting layers till the output layer\n",
    "prediction_model = keras.models.Model(\n",
    "    model.get_layer(name=\"image\").input, model.get_layer(name=\"dense2\").output\n",
    ")\n",
    "prediction_model.summary()\n",
    "\n",
    "\n",
    "# A utility function to decode the output of the network\n",
    "def decode_batch_predictions(pred):\n",
    "    input_len = np.ones(pred.shape[0]) * pred.shape[1]\n",
    "    # Use greedy search. For complex tasks, you can use beam search\n",
    "    results = keras.backend.ctc_decode(pred, input_length=input_len, greedy=True)[0][0][:, :max_length]\n",
    "    # Iterate over the results and get back the text\n",
    "    output_text = []\n",
    "    for res in results:\n",
    "        res = tf.strings.reduce_join(num_to_char(res)).numpy().decode(\"utf-8\")\n",
    "        output_text.append(res)\n",
    "    return output_text\n",
    "\n",
    "\n",
    "#  Let's check results on some validation samples\n",
    "for batch in validation_dataset.take(1):\n",
    "    batch_images = batch[\"image\"]\n",
    "    batch_labels = batch[\"label\"]\n",
    "\n",
    "    preds = prediction_model.predict(batch_images)\n",
    "    pred_texts = decode_batch_predictions(preds)\n",
    "\n",
    "    orig_texts = []\n",
    "    for label in batch_labels:\n",
    "        label = tf.strings.reduce_join(num_to_char(label)).numpy().decode(\"utf-8\")\n",
    "        orig_texts.append(label)\n",
    "\n",
    "    _, ax = plt.subplots(4, 4, figsize=(15, 5))\n",
    "    for i in range(len(pred_texts)):\n",
    "        img = (batch_images[i, :, :, 0] * 255).numpy().astype(np.uint8)\n",
    "        img = img.T\n",
    "        title = f\"Prediction: {pred_texts[i]}\"\n",
    "        ax[i // 4, i % 4].imshow(img, cmap=\"gray\")\n",
    "        ax[i // 4, i % 4].set_title(title)\n",
    "        ax[i // 4, i % 4].axis(\"off\")\n",
    "\n",
    "plt.show()"
   ]
  },
  {
   "cell_type": "code",
   "execution_count": 10,
   "metadata": {},
   "outputs": [
    {
     "name": "stdout",
     "output_type": "stream",
     "text": [
      "WARNING:tensorflow:Compiled the loaded model, but the compiled metrics have yet to be built. `model.compile_metrics` will be empty until you train or evaluate the model.\n"
     ]
    },
    {
     "name": "stderr",
     "output_type": "stream",
     "text": [
      "WARNING:absl:Found untraced functions such as _jit_compiled_convolution_op, _jit_compiled_convolution_op, lstm_cell_1_layer_call_fn, lstm_cell_1_layer_call_and_return_conditional_losses, lstm_cell_2_layer_call_fn while saving (showing 5 of 10). These functions will not be directly callable after loading.\n"
     ]
    },
    {
     "name": "stdout",
     "output_type": "stream",
     "text": [
      "INFO:tensorflow:Assets written to: ./model/assets\n"
     ]
    },
    {
     "name": "stderr",
     "output_type": "stream",
     "text": [
      "INFO:tensorflow:Assets written to: ./model/assets\n"
     ]
    },
    {
     "name": "stdout",
     "output_type": "stream",
     "text": [
      "WARNING:tensorflow:Compiled the loaded model, but the compiled metrics have yet to be built. `model.compile_metrics` will be empty until you train or evaluate the model.\n"
     ]
    },
    {
     "name": "stderr",
     "output_type": "stream",
     "text": [
      "WARNING:tensorflow:Compiled the loaded model, but the compiled metrics have yet to be built. `model.compile_metrics` will be empty until you train or evaluate the model.\n",
      "WARNING:absl:Found untraced functions such as _jit_compiled_convolution_op, _jit_compiled_convolution_op, lstm_cell_1_layer_call_fn, lstm_cell_1_layer_call_and_return_conditional_losses, lstm_cell_2_layer_call_fn while saving (showing 5 of 10). These functions will not be directly callable after loading.\n"
     ]
    },
    {
     "name": "stdout",
     "output_type": "stream",
     "text": [
      "INFO:tensorflow:Assets written to: C:/Users/wuihee/Desktop/Programming/Projects/BBDC Sniping Bot/bbdc-sniping-bot/captcha_prediction_model\\assets\n"
     ]
    },
    {
     "name": "stderr",
     "output_type": "stream",
     "text": [
      "INFO:tensorflow:Assets written to: C:/Users/wuihee/Desktop/Programming/Projects/BBDC Sniping Bot/bbdc-sniping-bot/captcha_prediction_model\\assets\n"
     ]
    }
   ],
   "source": [
    "prediction_model.save(\"./model/\")\n",
    "prediction_model.save(\"C:/Users/wuihee/Desktop/Programming/Projects/BBDC Sniping Bot/bbdc-sniping-bot/captcha_prediction_model\")"
   ]
  }
 ],
 "metadata": {
  "kernelspec": {
   "display_name": "Python 3",
   "language": "python",
   "name": "python3"
  },
  "language_info": {
   "codemirror_mode": {
    "name": "ipython",
    "version": 3
   },
   "file_extension": ".py",
   "mimetype": "text/x-python",
   "name": "python",
   "nbconvert_exporter": "python",
   "pygments_lexer": "ipython3",
   "version": "3.11.2"
  },
  "orig_nbformat": 4
 },
 "nbformat": 4,
 "nbformat_minor": 2
}
